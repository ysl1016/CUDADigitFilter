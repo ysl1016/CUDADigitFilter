{
  "nbformat": 4,
  "nbformat_minor": 0,
  "metadata": {
    "colab": {
      "provenance": [],
      "machine_shape": "hm",
      "gpuType": "A100"
    },
    "kernelspec": {
      "name": "python3",
      "display_name": "Python 3"
    },
    "language_info": {
      "name": "python"
    },
    "accelerator": "GPU"
  },
  "cells": [
    {
      "cell_type": "code",
      "source": [
        "import numpy as np\n",
        "import matplotlib.pyplot as plt\n",
        "import os\n",
        "import numpy as np\n",
        "import matplotlib.pyplot as plt\n",
        "from torchvision import datasets"
      ],
      "metadata": {
        "id": "To5D9XvlIJGo"
      },
      "execution_count": 53,
      "outputs": []
    },
    {
      "cell_type": "code",
      "execution_count": 54,
      "metadata": {
        "colab": {
          "base_uri": "https://localhost:8080/"
        },
        "id": "8o5Nx7Ds58fh",
        "outputId": "8f1923bb-c70b-471b-ae18-d89d1402137c"
      },
      "outputs": [
        {
          "output_type": "stream",
          "name": "stdout",
          "text": [
            "Mon Jan 27 08:31:07 2025       \n",
            "+---------------------------------------------------------------------------------------+\n",
            "| NVIDIA-SMI 535.104.05             Driver Version: 535.104.05   CUDA Version: 12.2     |\n",
            "|-----------------------------------------+----------------------+----------------------+\n",
            "| GPU  Name                 Persistence-M | Bus-Id        Disp.A | Volatile Uncorr. ECC |\n",
            "| Fan  Temp   Perf          Pwr:Usage/Cap |         Memory-Usage | GPU-Util  Compute M. |\n",
            "|                                         |                      |               MIG M. |\n",
            "|=========================================+======================+======================|\n",
            "|   0  NVIDIA A100-SXM4-40GB          Off | 00000000:00:04.0 Off |                    0 |\n",
            "| N/A   31C    P0              45W / 400W |      2MiB / 40960MiB |      0%      Default |\n",
            "|                                         |                      |             Disabled |\n",
            "+-----------------------------------------+----------------------+----------------------+\n",
            "                                                                                         \n",
            "+---------------------------------------------------------------------------------------+\n",
            "| Processes:                                                                            |\n",
            "|  GPU   GI   CI        PID   Type   Process name                            GPU Memory |\n",
            "|        ID   ID                                                             Usage      |\n",
            "|=======================================================================================|\n",
            "|  No running processes found                                                           |\n",
            "+---------------------------------------------------------------------------------------+\n",
            "Hit:1 http://archive.ubuntu.com/ubuntu jammy InRelease\n",
            "Hit:2 https://cloud.r-project.org/bin/linux/ubuntu jammy-cran40/ InRelease\n",
            "Hit:3 http://archive.ubuntu.com/ubuntu jammy-updates InRelease\n",
            "Hit:4 https://developer.download.nvidia.com/compute/cuda/repos/ubuntu2204/x86_64  InRelease\n",
            "Hit:5 http://archive.ubuntu.com/ubuntu jammy-backports InRelease\n",
            "Hit:6 http://security.ubuntu.com/ubuntu jammy-security InRelease\n",
            "Hit:7 https://r2u.stat.illinois.edu/ubuntu jammy InRelease\n",
            "Hit:8 https://ppa.launchpadcontent.net/deadsnakes/ppa/ubuntu jammy InRelease\n",
            "Hit:9 https://ppa.launchpadcontent.net/graphics-drivers/ppa/ubuntu jammy InRelease\n",
            "Hit:10 https://ppa.launchpadcontent.net/ubuntugis/ppa/ubuntu jammy InRelease\n",
            "Reading package lists... Done\n",
            "W: Skipping acquire of configured file 'main/source/Sources' as repository 'https://r2u.stat.illinois.edu/ubuntu jammy InRelease' does not seem to provide it (sources.list entry misspelt?)\n",
            "Reading package lists... Done\n",
            "Building dependency tree... Done\n",
            "Reading state information... Done\n",
            "cmake is already the newest version (3.22.1-1ubuntu1.22.04.2).\n",
            "0 upgraded, 0 newly installed, 0 to remove and 52 not upgraded.\n",
            "Cloning into 'CUDADigitFilter'...\n",
            "remote: Enumerating objects: 156, done.\u001b[K\n",
            "remote: Counting objects: 100% (156/156), done.\u001b[K\n",
            "remote: Compressing objects: 100% (114/114), done.\u001b[K\n",
            "remote: Total 156 (delta 83), reused 102 (delta 42), pack-reused 0 (from 0)\u001b[K\n",
            "Receiving objects: 100% (156/156), 30.74 KiB | 1.18 MiB/s, done.\n",
            "Resolving deltas: 100% (83/83), done.\n",
            "/content/CUDADigitFilter/CUDADigitFilter\n"
          ]
        }
      ],
      "source": [
        "# CUDA 가용성 확인\n",
        "!nvidia-smi\n",
        "\n",
        "# 필요한 라이브러리 설치\n",
        "!apt-get update\n",
        "!apt-get install -y cmake\n",
        "\n",
        "# GitHub 저장소 클론\n",
        "!git clone https://github.com/ysl1016/CUDADigitFilter.git\n",
        "%cd CUDADigitFilter"
      ]
    },
    {
      "cell_type": "code",
      "source": [
        "%cd /content\n",
        "!rm -rf CUDADigitFilter\n",
        "!git clone https://github.com/ysl1016/CUDADigitFilter.git\n",
        "%cd CUDADigitFilter"
      ],
      "metadata": {
        "colab": {
          "base_uri": "https://localhost:8080/"
        },
        "id": "jiOOka5TEiCz",
        "outputId": "903f6f91-0040-4c08-d74b-8fb755ecc9f3"
      },
      "execution_count": 55,
      "outputs": [
        {
          "output_type": "stream",
          "name": "stdout",
          "text": [
            "/content\n",
            "Cloning into 'CUDADigitFilter'...\n",
            "remote: Enumerating objects: 156, done.\u001b[K\n",
            "remote: Counting objects: 100% (156/156), done.\u001b[K\n",
            "remote: Compressing objects: 100% (114/114), done.\u001b[K\n",
            "remote: Total 156 (delta 83), reused 102 (delta 42), pack-reused 0 (from 0)\u001b[K\n",
            "Receiving objects: 100% (156/156), 30.74 KiB | 1.71 MiB/s, done.\n",
            "Resolving deltas: 100% (83/83), done.\n",
            "/content/CUDADigitFilter\n"
          ]
        }
      ]
    },
    {
      "cell_type": "code",
      "source": [
        "%%writefile /content/CUDADigitFilter/CMakeLists.txt\n",
        "cmake_minimum_required(VERSION 3.10)\n",
        "project(mnist_filter CUDA CXX)\n",
        "\n",
        "set(CMAKE_CUDA_ARCHITECTURES 75)\n",
        "\n",
        "find_package(OpenCV REQUIRED)\n",
        "\n",
        "include_directories(${OpenCV_INCLUDE_DIRS})\n",
        "include_directories(${CMAKE_SOURCE_DIR}/include)\n",
        "\n",
        "set(CMAKE_CUDA_STANDARD 14)\n",
        "set(CMAKE_CUDA_STANDARD_REQUIRED ON)\n",
        "\n",
        "if(POLICY CMP0104)\n",
        "  cmake_policy(SET CMP0104 NEW)\n",
        "endif()\n",
        "\n",
        "add_executable(mnist_filter\n",
        "    src/main.cu\n",
        "    src/mnist_loader.cu\n",
        "    src/filters.cu\n",
        "    src/utils.cu\n",
        ")\n",
        "\n",
        "set_target_properties(mnist_filter PROPERTIES\n",
        "    CUDA_SEPARABLE_COMPILATION ON\n",
        ")\n",
        "\n",
        "target_link_libraries(mnist_filter ${OpenCV_LIBS})"
      ],
      "metadata": {
        "colab": {
          "base_uri": "https://localhost:8080/"
        },
        "id": "cFjqvvq097G0",
        "outputId": "5ab7f549-df72-4d3b-cee3-4bf09f64971d"
      },
      "execution_count": 56,
      "outputs": [
        {
          "output_type": "stream",
          "name": "stdout",
          "text": [
            "Overwriting /content/CUDADigitFilter/CMakeLists.txt\n"
          ]
        }
      ]
    },
    {
      "cell_type": "code",
      "source": [
        "%cd /content/CUDADigitFilter\n",
        "!rm -rf CMakeFiles CMakeCache.txt\n",
        "!cmake .\n",
        "!make"
      ],
      "metadata": {
        "colab": {
          "base_uri": "https://localhost:8080/"
        },
        "id": "Pg-bfkRAEl5j",
        "outputId": "96058c10-1dba-47ec-ce66-0b44c4c0c345"
      },
      "execution_count": 57,
      "outputs": [
        {
          "output_type": "stream",
          "name": "stdout",
          "text": [
            "/content/CUDADigitFilter\n",
            "-- The CUDA compiler identification is NVIDIA 12.2.140 with host compiler GNU 11.4.0\n",
            "-- The CXX compiler identification is GNU 11.4.0\n",
            "-- Detecting CUDA compiler ABI info\n",
            "-- Detecting CUDA compiler ABI info - done\n",
            "-- Check for working CUDA compiler: /usr/local/cuda/bin/nvcc - skipped\n",
            "-- Detecting CUDA compile features\n",
            "-- Detecting CUDA compile features - done\n",
            "-- Detecting CXX compiler ABI info\n",
            "-- Detecting CXX compiler ABI info - done\n",
            "-- Check for working CXX compiler: /usr/bin/c++ - skipped\n",
            "-- Detecting CXX compile features\n",
            "-- Detecting CXX compile features - done\n",
            "-- Found OpenCV: /usr (found version \"4.5.4\")\n",
            "-- Configuring done (2.6s)\n",
            "-- Generating done (0.0s)\n",
            "-- Build files have been written to: /content/CUDADigitFilter\n",
            "[ 16%] \u001b[32mBuilding CUDA object CMakeFiles/mnist_filter.dir/src/main.cu.o\u001b[0m\n",
            "[ 33%] \u001b[32mBuilding CUDA object CMakeFiles/mnist_filter.dir/src/mnist_loader.cu.o\u001b[0m\n",
            "[ 50%] \u001b[32mBuilding CUDA object CMakeFiles/mnist_filter.dir/src/filters.cu.o\u001b[0m\n",
            "[ 66%] \u001b[32mBuilding CUDA object CMakeFiles/mnist_filter.dir/src/utils.cu.o\u001b[0m\n",
            "[ 83%] \u001b[32m\u001b[1mLinking CUDA device code CMakeFiles/mnist_filter.dir/cmake_device_link.o\u001b[0m\n",
            "[100%] \u001b[32m\u001b[1mLinking CUDA executable mnist_filter\u001b[0m\n",
            "[100%] Built target mnist_filter\n"
          ]
        }
      ]
    },
    {
      "cell_type": "code",
      "source": [
        "import tensorflow as tf\n",
        "import numpy as np\n",
        "\n",
        "# 현재 디렉토리 확인 및 이동\n",
        "%cd /content/CUDADigitFilter\n",
        "\n",
        "# 데이터 디렉토리 생성\n",
        "!mkdir -p data/mnist\n",
        "\n",
        "# MNIST 데이터셋 다운로드\n",
        "(x_train, _), (x_test, _) = tf.keras.datasets.mnist.load_data()\n",
        "\n",
        "# train 이미지 데이터 저장\n",
        "with open('data/mnist/train-images-idx3-ubyte', 'wb') as f:\n",
        "    # 헤더 작성 (magic number, 이미지 수, 행, 열)\n",
        "    f.write(np.array([0x00000803, len(x_train), 28, 28], dtype='>i4').tobytes())\n",
        "    # 이미지 데이터 작성\n",
        "    f.write(x_train.astype(np.uint8).tobytes())\n",
        "\n",
        "# test 이미지 데이터 저장\n",
        "with open('data/mnist/t10k-images-idx3-ubyte', 'wb') as f:\n",
        "    # 헤더 작성 (magic number, 이미지 수, 행, 열)\n",
        "    f.write(np.array([0x00000803, len(x_test), 28, 28], dtype='>i4').tobytes())\n",
        "    # 이미지 데이터 작성\n",
        "    f.write(x_test.astype(np.uint8).tobytes())"
      ],
      "metadata": {
        "colab": {
          "base_uri": "https://localhost:8080/"
        },
        "id": "gbwf7wccCyOa",
        "outputId": "91988f79-d313-46bf-e7a0-c365416889b3"
      },
      "execution_count": 58,
      "outputs": [
        {
          "output_type": "stream",
          "name": "stdout",
          "text": [
            "/content/CUDADigitFilter\n"
          ]
        }
      ]
    },
    {
      "cell_type": "code",
      "source": [
        "def check_mnist_data():\n",
        "    print(\"Checking MNIST data file...\")\n",
        "    with open('data/mnist/train-images-idx3-ubyte', 'rb') as f:\n",
        "        # 헤더 읽기\n",
        "        magic = int.from_bytes(f.read(4), byteorder='big')\n",
        "        num_images = int.from_bytes(f.read(4), byteorder='big')\n",
        "        rows = int.from_bytes(f.read(4), byteorder='big')\n",
        "        cols = int.from_bytes(f.read(4), byteorder='big')\n",
        "\n",
        "        print(f\"\\nHeader Information:\")\n",
        "        print(f\"Magic number: {hex(magic)}\")\n",
        "        print(f\"Number of images: {num_images}\")\n",
        "        print(f\"Image size: {rows}x{cols}\")\n",
        "\n",
        "        print(\"\\nChecking first 10 images:\")\n",
        "        # 첫 10개 이미지의 픽셀값 범위 확인\n",
        "        for i in range(10):\n",
        "            image = np.frombuffer(f.read(rows*cols), dtype=np.uint8).reshape(rows, cols)\n",
        "            print(f\"Image {i}: min={image.min()}, max={image.max()}, mean={image.mean():.2f}, shape={image.shape}\")\n",
        "\n",
        "            # 추가로 이미지의 non-zero 픽셀 수 확인\n",
        "            non_zero = np.count_nonzero(image)\n",
        "            print(f\"         Non-zero pixels: {non_zero} ({(non_zero/(rows*cols))*100:.2f}%)\")\n",
        "\n",
        "check_mnist_data()"
      ],
      "metadata": {
        "colab": {
          "base_uri": "https://localhost:8080/"
        },
        "id": "IqKprDWxINxv",
        "outputId": "155afc11-f1fe-42c6-df6d-7610bd928b7d"
      },
      "execution_count": 59,
      "outputs": [
        {
          "output_type": "stream",
          "name": "stdout",
          "text": [
            "Checking MNIST data file...\n",
            "\n",
            "Header Information:\n",
            "Magic number: 0x803\n",
            "Number of images: 60000\n",
            "Image size: 28x28\n",
            "\n",
            "Checking first 10 images:\n",
            "Image 0: min=0, max=255, mean=35.11, shape=(28, 28)\n",
            "         Non-zero pixels: 166 (21.17%)\n",
            "Image 1: min=0, max=255, mean=39.66, shape=(28, 28)\n",
            "         Non-zero pixels: 176 (22.45%)\n",
            "Image 2: min=0, max=255, mean=24.80, shape=(28, 28)\n",
            "         Non-zero pixels: 120 (15.31%)\n",
            "Image 3: min=0, max=255, mean=21.86, shape=(28, 28)\n",
            "         Non-zero pixels: 96 (12.24%)\n",
            "Image 4: min=0, max=255, mean=29.61, shape=(28, 28)\n",
            "         Non-zero pixels: 142 (18.11%)\n",
            "Image 5: min=0, max=255, mean=37.76, shape=(28, 28)\n",
            "         Non-zero pixels: 188 (23.98%)\n",
            "Image 6: min=0, max=255, mean=22.51, shape=(28, 28)\n",
            "         Non-zero pixels: 93 (11.86%)\n",
            "Image 7: min=0, max=255, mean=45.75, shape=(28, 28)\n",
            "         Non-zero pixels: 200 (25.51%)\n",
            "Image 8: min=0, max=255, mean=13.87, shape=(28, 28)\n",
            "         Non-zero pixels: 68 (8.67%)\n",
            "Image 9: min=0, max=255, mean=27.94, shape=(28, 28)\n",
            "         Non-zero pixels: 130 (16.58%)\n"
          ]
        }
      ]
    },
    {
      "cell_type": "code",
      "source": [
        "!./mnist_filter --input data/mnist/train-images-idx3-ubyte \\\n",
        "                --filter sobel \\\n",
        "                --output results/filtered_images \\\n",
        "                --num-images 10"
      ],
      "metadata": {
        "colab": {
          "base_uri": "https://localhost:8080/"
        },
        "id": "npAbbsvKxgIb",
        "outputId": "32a973ef-7d97-46bd-838f-d0e68c0d7ed9"
      },
      "execution_count": 60,
      "outputs": [
        {
          "output_type": "stream",
          "name": "stdout",
          "text": [
            "[INFO] Applying sobel filter...\n",
            "[INFO] Saving processed images...\n",
            "[ERROR] Failed to save output images\n"
          ]
        }
      ]
    },
    {
      "cell_type": "code",
      "source": [
        "import os\n",
        "import numpy as np\n",
        "import matplotlib.pyplot as plt\n",
        "from torchvision import datasets\n",
        "\n",
        "# 필요한 디렉토리 생성\n",
        "!mkdir -p /content/CUDADigitFilter/data/mnist\n",
        "!mkdir -p /content/CUDADigitFilter/results/filtered_images\n",
        "\n",
        "def download_mnist():\n",
        "    # torchvision을 통해 MNIST 데이터셋 다운로드\n",
        "    mnist_train = datasets.MNIST(root='/content/CUDADigitFilter/data',\n",
        "                               train=True, download=True)\n",
        "\n",
        "    # 이미지 데이터를 바이너리 파일로 저장\n",
        "    output_file = '/content/CUDADigitFilter/data/mnist/train-images-idx3-ubyte'\n",
        "\n",
        "    # 헤더 정보 (magic number, 이미지 수, 행, 열)\n",
        "    header = np.array([2051, len(mnist_train), 28, 28], dtype='>i4')\n",
        "\n",
        "    with open(output_file, 'wb') as f:\n",
        "        header.tofile(f)\n",
        "        # 이미지 데이터 저장\n",
        "        for img, _ in mnist_train:\n",
        "            np.array(img).astype(np.uint8).tofile(f)\n",
        "\n",
        "    print(\"MNIST data is ready\")\n",
        "\n",
        "# MNIST 데이터 다운로드\n",
        "!pip install torchvision\n",
        "download_mnist()\n",
        "\n",
        "def show_results(num_images=5):\n",
        "    # 원본 이미지 로드\n",
        "    with open('/content/CUDADigitFilter/data/mnist/train-images-idx3-ubyte', 'rb') as f:\n",
        "        # 헤더 스킵\n",
        "        f.read(16)\n",
        "        # 이미지 읽기\n",
        "        original_images = np.frombuffer(f.read(28*28*num_images),\n",
        "                                      dtype=np.uint8).reshape(num_images, 28, 28)\n",
        "\n",
        "    # CUDA 프로그램 실행\n",
        "    !cd /content/CUDADigitFilter && ./mnist_filter --input data/mnist/train-images-idx3-ubyte --output results/filtered_images --filter sobel --num-images {num_images}\n",
        "\n",
        "    # 필터링된 이미지 로드\n",
        "    filtered_images = []\n",
        "    for i in range(num_images):\n",
        "        img_path = f'/content/CUDADigitFilter/results/filtered_images/image_{i}.pgm'\n",
        "        if os.path.exists(img_path):\n",
        "            img = plt.imread(img_path)\n",
        "            filtered_images.append(img)\n",
        "        else:\n",
        "            print(f\"Warning: Cannot find filtered image at {img_path}\")\n",
        "\n",
        "    if not filtered_images:\n",
        "        print(\"No filtered images found!\")\n",
        "        return\n",
        "\n",
        "    # 결과 시각화\n",
        "    plt.figure(figsize=(15, 6))\n",
        "\n",
        "    # 원본 이미지 표시\n",
        "    for i in range(num_images):\n",
        "        plt.subplot(2, num_images, i+1)\n",
        "        plt.imshow(original_images[i], cmap='gray')\n",
        "        plt.axis('off')\n",
        "        plt.title(f'Original {i+1}')\n",
        "\n",
        "    # 필터링된 이미지 표시\n",
        "    for i in range(len(filtered_images)):\n",
        "        plt.subplot(2, num_images, num_images+i+1)\n",
        "        plt.imshow(filtered_images[i], cmap='gray')\n",
        "        plt.axis('off')\n",
        "        plt.title(f'Filtered {i+1}')\n",
        "\n",
        "    plt.tight_layout()\n",
        "    plt.show()\n",
        "\n",
        "# CUDA 프로그램이 제대로 빌드되었는지 확인\n",
        "!cd /content/CUDADigitFilter && ls -l mnist_filter\n",
        "\n",
        "# 결과 표시\n",
        "show_results(5)"
      ],
      "metadata": {
        "colab": {
          "base_uri": "https://localhost:8080/",
          "height": 1000
        },
        "id": "poiw8bu6yOFb",
        "outputId": "5c81bc9f-1063-4c78-b2e6-8391b649a7b9"
      },
      "execution_count": 61,
      "outputs": [
        {
          "output_type": "stream",
          "name": "stdout",
          "text": [
            "Requirement already satisfied: torchvision in /usr/local/lib/python3.11/dist-packages (0.20.1+cu121)\n",
            "Requirement already satisfied: numpy in /usr/local/lib/python3.11/dist-packages (from torchvision) (1.26.4)\n",
            "Requirement already satisfied: torch==2.5.1 in /usr/local/lib/python3.11/dist-packages (from torchvision) (2.5.1+cu121)\n",
            "Requirement already satisfied: pillow!=8.3.*,>=5.3.0 in /usr/local/lib/python3.11/dist-packages (from torchvision) (11.1.0)\n",
            "Requirement already satisfied: filelock in /usr/local/lib/python3.11/dist-packages (from torch==2.5.1->torchvision) (3.17.0)\n",
            "Requirement already satisfied: typing-extensions>=4.8.0 in /usr/local/lib/python3.11/dist-packages (from torch==2.5.1->torchvision) (4.12.2)\n",
            "Requirement already satisfied: networkx in /usr/local/lib/python3.11/dist-packages (from torch==2.5.1->torchvision) (3.4.2)\n",
            "Requirement already satisfied: jinja2 in /usr/local/lib/python3.11/dist-packages (from torch==2.5.1->torchvision) (3.1.5)\n",
            "Requirement already satisfied: fsspec in /usr/local/lib/python3.11/dist-packages (from torch==2.5.1->torchvision) (2024.10.0)\n",
            "Requirement already satisfied: nvidia-cuda-nvrtc-cu12==12.1.105 in /usr/local/lib/python3.11/dist-packages (from torch==2.5.1->torchvision) (12.1.105)\n",
            "Requirement already satisfied: nvidia-cuda-runtime-cu12==12.1.105 in /usr/local/lib/python3.11/dist-packages (from torch==2.5.1->torchvision) (12.1.105)\n",
            "Requirement already satisfied: nvidia-cuda-cupti-cu12==12.1.105 in /usr/local/lib/python3.11/dist-packages (from torch==2.5.1->torchvision) (12.1.105)\n",
            "Requirement already satisfied: nvidia-cudnn-cu12==9.1.0.70 in /usr/local/lib/python3.11/dist-packages (from torch==2.5.1->torchvision) (9.1.0.70)\n",
            "Requirement already satisfied: nvidia-cublas-cu12==12.1.3.1 in /usr/local/lib/python3.11/dist-packages (from torch==2.5.1->torchvision) (12.1.3.1)\n",
            "Requirement already satisfied: nvidia-cufft-cu12==11.0.2.54 in /usr/local/lib/python3.11/dist-packages (from torch==2.5.1->torchvision) (11.0.2.54)\n",
            "Requirement already satisfied: nvidia-curand-cu12==10.3.2.106 in /usr/local/lib/python3.11/dist-packages (from torch==2.5.1->torchvision) (10.3.2.106)\n",
            "Requirement already satisfied: nvidia-cusolver-cu12==11.4.5.107 in /usr/local/lib/python3.11/dist-packages (from torch==2.5.1->torchvision) (11.4.5.107)\n",
            "Requirement already satisfied: nvidia-cusparse-cu12==12.1.0.106 in /usr/local/lib/python3.11/dist-packages (from torch==2.5.1->torchvision) (12.1.0.106)\n",
            "Requirement already satisfied: nvidia-nccl-cu12==2.21.5 in /usr/local/lib/python3.11/dist-packages (from torch==2.5.1->torchvision) (2.21.5)\n",
            "Requirement already satisfied: nvidia-nvtx-cu12==12.1.105 in /usr/local/lib/python3.11/dist-packages (from torch==2.5.1->torchvision) (12.1.105)\n",
            "Requirement already satisfied: triton==3.1.0 in /usr/local/lib/python3.11/dist-packages (from torch==2.5.1->torchvision) (3.1.0)\n",
            "Requirement already satisfied: sympy==1.13.1 in /usr/local/lib/python3.11/dist-packages (from torch==2.5.1->torchvision) (1.13.1)\n",
            "Requirement already satisfied: nvidia-nvjitlink-cu12 in /usr/local/lib/python3.11/dist-packages (from nvidia-cusolver-cu12==11.4.5.107->torch==2.5.1->torchvision) (12.6.85)\n",
            "Requirement already satisfied: mpmath<1.4,>=1.1.0 in /usr/local/lib/python3.11/dist-packages (from sympy==1.13.1->torch==2.5.1->torchvision) (1.3.0)\n",
            "Requirement already satisfied: MarkupSafe>=2.0 in /usr/local/lib/python3.11/dist-packages (from jinja2->torch==2.5.1->torchvision) (3.0.2)\n",
            "Downloading http://yann.lecun.com/exdb/mnist/train-images-idx3-ubyte.gz\n",
            "Failed to download (trying next):\n",
            "<urlopen error [Errno 111] Connection refused>\n",
            "\n",
            "Downloading https://ossci-datasets.s3.amazonaws.com/mnist/train-images-idx3-ubyte.gz\n",
            "Downloading https://ossci-datasets.s3.amazonaws.com/mnist/train-images-idx3-ubyte.gz to /content/CUDADigitFilter/data/MNIST/raw/train-images-idx3-ubyte.gz\n"
          ]
        },
        {
          "output_type": "stream",
          "name": "stderr",
          "text": [
            "100%|██████████| 9.91M/9.91M [00:00<00:00, 41.7MB/s]\n"
          ]
        },
        {
          "output_type": "stream",
          "name": "stdout",
          "text": [
            "Extracting /content/CUDADigitFilter/data/MNIST/raw/train-images-idx3-ubyte.gz to /content/CUDADigitFilter/data/MNIST/raw\n",
            "\n",
            "Downloading http://yann.lecun.com/exdb/mnist/train-labels-idx1-ubyte.gz\n",
            "Failed to download (trying next):\n",
            "<urlopen error [Errno 111] Connection refused>\n",
            "\n",
            "Downloading https://ossci-datasets.s3.amazonaws.com/mnist/train-labels-idx1-ubyte.gz\n",
            "Downloading https://ossci-datasets.s3.amazonaws.com/mnist/train-labels-idx1-ubyte.gz to /content/CUDADigitFilter/data/MNIST/raw/train-labels-idx1-ubyte.gz\n"
          ]
        },
        {
          "output_type": "stream",
          "name": "stderr",
          "text": [
            "100%|██████████| 28.9k/28.9k [00:00<00:00, 1.21MB/s]\n"
          ]
        },
        {
          "output_type": "stream",
          "name": "stdout",
          "text": [
            "Extracting /content/CUDADigitFilter/data/MNIST/raw/train-labels-idx1-ubyte.gz to /content/CUDADigitFilter/data/MNIST/raw\n",
            "\n",
            "Downloading http://yann.lecun.com/exdb/mnist/t10k-images-idx3-ubyte.gz\n",
            "Failed to download (trying next):\n",
            "<urlopen error [Errno 111] Connection refused>\n",
            "\n",
            "Downloading https://ossci-datasets.s3.amazonaws.com/mnist/t10k-images-idx3-ubyte.gz\n",
            "Downloading https://ossci-datasets.s3.amazonaws.com/mnist/t10k-images-idx3-ubyte.gz to /content/CUDADigitFilter/data/MNIST/raw/t10k-images-idx3-ubyte.gz\n"
          ]
        },
        {
          "output_type": "stream",
          "name": "stderr",
          "text": [
            "100%|██████████| 1.65M/1.65M [00:00<00:00, 10.8MB/s]\n"
          ]
        },
        {
          "output_type": "stream",
          "name": "stdout",
          "text": [
            "Extracting /content/CUDADigitFilter/data/MNIST/raw/t10k-images-idx3-ubyte.gz to /content/CUDADigitFilter/data/MNIST/raw\n",
            "\n",
            "Downloading http://yann.lecun.com/exdb/mnist/t10k-labels-idx1-ubyte.gz\n",
            "Failed to download (trying next):\n",
            "<urlopen error [Errno 111] Connection refused>\n",
            "\n",
            "Downloading https://ossci-datasets.s3.amazonaws.com/mnist/t10k-labels-idx1-ubyte.gz\n",
            "Downloading https://ossci-datasets.s3.amazonaws.com/mnist/t10k-labels-idx1-ubyte.gz to /content/CUDADigitFilter/data/MNIST/raw/t10k-labels-idx1-ubyte.gz\n"
          ]
        },
        {
          "output_type": "stream",
          "name": "stderr",
          "text": [
            "100%|██████████| 4.54k/4.54k [00:00<00:00, 5.92MB/s]\n"
          ]
        },
        {
          "output_type": "stream",
          "name": "stdout",
          "text": [
            "Extracting /content/CUDADigitFilter/data/MNIST/raw/t10k-labels-idx1-ubyte.gz to /content/CUDADigitFilter/data/MNIST/raw\n",
            "\n",
            "MNIST data is ready\n",
            "-rwxr-xr-x 1 root root 1018552 Jan 27 08:31 mnist_filter\n",
            "[INFO] Applying sobel filter...\n",
            "[INFO] Saving processed images...\n",
            "[INFO] Processing completed successfully\n"
          ]
        },
        {
          "output_type": "display_data",
          "data": {
            "text/plain": [
              "<Figure size 1500x600 with 10 Axes>"
            ],
            "image/png": "[encoded data removed]"
          },
          "metadata": {}
        }
      ]
    },
    {
      "cell_type": "code",
      "source": [
        "def apply_and_show_filter(filter_type, num_images=5):\n",
        "    # CUDA 프로그램 실행\n",
        "    output_dir = f'/content/CUDADigitFilter/results/{filter_type}_images'\n",
        "    !mkdir -p {output_dir}\n",
        "\n",
        "    !cd /content/CUDADigitFilter && ./mnist_filter \\\n",
        "        --input data/mnist/train-images-idx3-ubyte \\\n",
        "        --output {output_dir} \\\n",
        "        --filter {filter_type} \\\n",
        "        --num-images {num_images}\n",
        "\n",
        "    # 원본 이미지 로드\n",
        "    with open('/content/CUDADigitFilter/data/mnist/train-images-idx3-ubyte', 'rb') as f:\n",
        "        # 헤더 스킵\n",
        "        f.read(16)\n",
        "        # 이미지 읽기\n",
        "        original_images = np.frombuffer(f.read(28*28*num_images),\n",
        "                                      dtype=np.uint8).reshape(num_images, 28, 28)\n",
        "\n",
        "    # 필터링된 이미지 로드\n",
        "    filtered_images = []\n",
        "    for i in range(num_images):\n",
        "        img_path = f'{output_dir}/image_{i}.pgm'\n",
        "        if os.path.exists(img_path):\n",
        "            img = plt.imread(img_path)\n",
        "            filtered_images.append(img)\n",
        "        else:\n",
        "            print(f\"Warning: Cannot find filtered image at {img_path}\")\n",
        "\n",
        "    if not filtered_images:\n",
        "        print(f\"No filtered images found for {filter_type} filter!\")\n",
        "        return\n",
        "\n",
        "    # 결과 시각화\n",
        "    plt.figure(figsize=(15, 6))\n",
        "    plt.suptitle(f'{filter_type.capitalize()} Filter Results', y=1.02, fontsize=16)\n",
        "\n",
        "    # 원본 이미지 표시\n",
        "    for i in range(num_images):\n",
        "        plt.subplot(2, num_images, i+1)\n",
        "        plt.imshow(original_images[i], cmap='gray')\n",
        "        plt.axis('off')\n",
        "        plt.title(f'Original {i+1}')\n",
        "\n",
        "    # 필터링된 이미지 표시\n",
        "    for i in range(len(filtered_images)):\n",
        "        plt.subplot(2, num_images, num_images+i+1)\n",
        "        plt.imshow(filtered_images[i], cmap='gray')\n",
        "        plt.axis('off')\n",
        "        plt.title(f'Filtered {i+1}')\n",
        "\n",
        "    plt.tight_layout()\n",
        "    plt.show()\n",
        "\n",
        "# MNIST 데이터가 없으면 다운로드\n",
        "if not os.path.exists('/content/CUDADigitFilter/data/mnist/train-images-idx3-ubyte'):\n",
        "    mnist_train = datasets.MNIST(root='/content/CUDADigitFilter/data',\n",
        "                               train=True, download=True)\n",
        "\n",
        "    # 이미지 데이터를 바이너리 파일로 저장\n",
        "    output_file = '/content/CUDADigitFilter/data/mnist/train-images-idx3-ubyte'\n",
        "\n",
        "    # 헤더 정보 (magic number, 이미지 수, 행, 열)\n",
        "    header = np.array([2051, len(mnist_train), 28, 28], dtype='>i4')\n",
        "\n",
        "    with open(output_file, 'wb') as f:\n",
        "        header.tofile(f)\n",
        "        # 이미지 데이터 저장\n",
        "        for img, _ in mnist_train:\n",
        "            np.array(img).astype(np.uint8).tofile(f)\n",
        "\n",
        "# 각 필터 적용 및 결과 표시\n",
        "filters = ['sobel', 'gaussian', 'sharpen']\n",
        "num_images = 5\n",
        "\n",
        "for filter_type in filters:\n",
        "    print(f\"\\nApplying {filter_type} filter...\")\n",
        "    apply_and_show_filter(filter_type, num_images)"
      ],
      "metadata": {
        "colab": {
          "base_uri": "https://localhost:8080/",
          "height": 1000
        },
        "id": "xKW6eWc_z4s7",
        "outputId": "6ad2f4bf-bd7d-4503-d2bd-eafe88607158"
      },
      "execution_count": 62,
      "outputs": [
        {
          "output_type": "stream",
          "name": "stdout",
          "text": [
            "\n",
            "Applying sobel filter...\n",
            "[INFO] Applying sobel filter...\n",
            "[INFO] Saving processed images...\n",
            "[INFO] Processing completed successfully\n"
          ]
        },
        {
          "output_type": "display_data",
          "data": {
            "text/plain": [
              "<Figure size 1500x600 with 10 Axes>"
            ],
            "image/png": "[encoded data removed]"
          },
          "metadata": {}
        },
        {
          "output_type": "stream",
          "name": "stdout",
          "text": [
            "\n",
            "Applying gaussian filter...\n",
            "[INFO] Applying gaussian filter...\n",
            "[INFO] Saving processed images...\n",
            "[INFO] Processing completed successfully\n"
          ]
        },
        {
          "output_type": "display_data",
          "data": {
            "text/plain": [
              "<Figure size 1500x600 with 10 Axes>"
            ],
            "image/png": "[encoded data removed]"
          },
          "metadata": {}
        },
        {
          "output_type": "stream",
          "name": "stdout",
          "text": [
            "\n",
            "Applying sharpen filter...\n",
            "[INFO] Applying sharpen filter...\n",
            "[INFO] Saving processed images...\n",
            "[INFO] Processing completed successfully\n"
          ]
        },
        {
          "output_type": "display_data",
          "data": {
            "text/plain": [
              "<Figure size 1500x600 with 10 Axes>"
            ],
            "image/png": "[encoded data removed]"
          },
          "metadata": {}
        }
      ]
    }
  ]
}